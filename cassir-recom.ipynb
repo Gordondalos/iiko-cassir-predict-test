{
 "cells": [
  {
   "cell_type": "code",
   "execution_count": 3,
   "metadata": {},
   "outputs": [],
   "source": [
    "from urllib.request import urlopen\n",
    "import json\n",
    "import pandas as pd\n",
    "import numpy as np\n",
    "from scipy.sparse import csr_matrix, coo_matrix\n",
    "import implicit\n",
    "import copy\n",
    "from sklearn import preprocessing\n",
    "from keras.models import load_model\n",
    "import json"
   ]
  },
  {
   "cell_type": "code",
   "execution_count": 12,
   "metadata": {},
   "outputs": [
    {
     "name": "stdout",
     "output_type": "stream",
     "text": [
      "dict_keys(['data', 'summary'])\n",
      "102080\n"
     ]
    }
   ],
   "source": [
    "f = open('response.json')\n",
    "data = json.load(f)\n",
    "f.close()\n",
    "print(data.keys())\n",
    "print(len(data['data']))\n",
    "data = data['data']"
   ]
  },
  {
   "cell_type": "code",
   "execution_count": 23,
   "metadata": {},
   "outputs": [
    {
     "name": "stdout",
     "output_type": "stream",
     "text": [
      "15259\n"
     ]
    }
   ],
   "source": [
    "# Вытащим уникальный список чеков и посмотрим длину\n",
    "check_list_not_uniq = []\n",
    "for item in data:\n",
    "    check_list_not_uniq.append(item['UniqOrderId.Id'])\n",
    "\n",
    "check_list = set(check_list_not_uniq)\n",
    "print(len(check_list))"
   ]
  },
  {
   "cell_type": "code",
   "execution_count": 19,
   "metadata": {},
   "outputs": [
    {
     "name": "stdout",
     "output_type": "stream",
     "text": [
      "326\n"
     ]
    }
   ],
   "source": [
    "# Вытащим словарь товаров и посмотрим длину\n",
    "product_dict = {}\n",
    "for item in data:\n",
    "    product_dict[item['DishId']] = item['DishName']\n",
    "print(len(product_dict))\n",
    "    "
   ]
  },
  {
   "cell_type": "code",
   "execution_count": 76,
   "metadata": {},
   "outputs": [],
   "source": [
    "# coберем словарик чеков в виде векторов\n",
    "\n",
    "check_total = []\n",
    "for check_num in check_list:\n",
    "    check = {}\n",
    "    check['id'] = check_num\n",
    "    order = list(filter(lambda p: p['UniqOrderId.Id'] == check_num, data))\n",
    "    list_product_order = []\n",
    "    for pr in order:\n",
    "        list_product_order.append(pr['DishId'])\n",
    "\n",
    "    for product_key in product_dict.keys():\n",
    "        if product_key in list_product_order:\n",
    "            check[product_key] = 1\n",
    "        else:\n",
    "            check[product_key] = 0\n",
    "\n",
    "    \n",
    "    check_total.append(check)\n",
    "\n",
    "\n"
   ]
  },
  {
   "cell_type": "code",
   "execution_count": 78,
   "metadata": {},
   "outputs": [
    {
     "name": "stdout",
     "output_type": "stream",
     "text": [
      "['id', '8b618996-982c-4acf-84f7-400e7cff6cc7', '89254254-b5c6-4a29-ae67-fee29998a23e']\n",
      "327\n"
     ]
    }
   ],
   "source": [
    "columns = ['id'] + list(product_dict.keys())\n",
    "print(columns[: 3])\n",
    "print(len(columns))"
   ]
  },
  {
   "cell_type": "code",
   "execution_count": 79,
   "metadata": {},
   "outputs": [
    {
     "name": "stdout",
     "output_type": "stream",
     "text": [
      "{'id': 'ed9dac0c-8bd6-4c39-833c-7c08b3457f3d', '8b618996-982c-4acf-84f7-400e7cff6cc7': 0, '89254254-b5c6-4a29-ae67-fee29998a23e': 0, '92bf8ca1-8819-4d46-8039-b89a9df8dace': 0, '33cfb439-065a-45c4-8068-9575a8f69833': 0, '63018642-b3ce-47b0-a767-103b7ecc26d9': 0, 'ba33d2c0-2dba-4d22-bd5f-e6de73b77439': 1, '64ac0f42-cf07-4c23-afde-bf5e66747d4b': 0, '9b36cec1-e33e-4f99-bc8d-47bc7d5a63ed': 0, '7da2be02-1ed5-47b1-8774-e78637ccdd4d': 0, '21b939b5-8d53-4cb7-b4c4-879b421ce398': 0, '0751f186-2f45-47a4-bc1e-49716bc80203': 0, '98820e02-1489-4d48-a726-6a46036ec288': 0, 'b3c3dd5b-69d6-4133-8d0a-6ec318082421': 0, '20e9fe27-b115-4f30-95b3-dc6f53728567': 0, 'e4e52056-44fe-4e67-8342-b0e90ef8ce66': 0, '64656b73-340f-43c3-babf-d993337d74b5': 0, '8bf957a9-cf73-4079-8a16-ad39cb1bd88b': 0, '5985bea3-d017-4b74-828b-5888b88b1a33': 1, 'b2a73baa-088e-4ecc-9ee2-d4fb87de0776': 0, '23ce9d9f-b7a8-4f4e-a6e8-7630d0488f50': 0, 'cfb8c747-81e3-4ce9-83f3-916b5f2fcd2a': 0, '2443394a-d619-4c56-b3a7-739e770f2d94': 0, '6bf9922b-0d68-4511-8c72-f21e81b47f8d': 0, '5fd80a1a-9516-437a-8aac-7a18982441a5': 0, '283c451a-e4e4-4f79-a9c6-674e2b0e9020': 0, '5bc45074-f14a-42b5-9817-2f87c1eaf461': 0, '3b5d22ab-3d82-4196-82e9-6104ec77b0d8': 0, '3cc6a8fd-33da-4f1d-8ba5-f8a9ed19a601': 0, 'f2a2d702-c8e9-4819-8ecf-4d06d73a5e89': 0, '4ee610f7-fa48-4756-b91e-63e7f5a07edf': 0, '759d18bc-5fa0-46fd-93c0-8c644e12ca81': 0, '94870b0b-5987-4ecd-a901-cbfe443425a0': 0, 'c4c3327e-0993-405e-bbfb-e4ec4b90f4d4': 0, 'fefc003d-9d45-4805-a415-a94370784981': 0, '98c976e7-83b1-412b-ad6a-7cc86e218aa4': 0, 'ec9c2059-0ff8-4a76-9426-7871be15c777': 0, '0ce288a7-c8e4-40e8-84b1-e93d99900d3b': 0, 'e79026f4-2df4-4d33-957b-a8a1055c65cd': 0, '1b921c10-a9fa-4f9f-b675-631d438ab9c7': 0, '7b64b372-1e54-41b2-ae22-48953b4febf8': 0, 'a0afdb04-87f1-416e-9d81-fe47d9e2d0dd': 0, '8a51bc30-9d14-4686-9e04-9b44aaf5025f': 0, '01f4d23f-2105-47c4-8bdd-2e0b4a8784c9': 0, '59e45b43-d891-4984-b3ad-46b872e37465': 0, '4a556bf6-61fc-4ad1-9912-924cb3d83571': 1, '0406b635-d3b9-4640-93cd-de6a21be0100': 0, 'ae574866-4e5b-436f-898a-cf68b4447b59': 0, '92a6a949-e6f4-4a80-9ccc-6557535f8f1d': 0, '825e82f3-5943-434f-879a-e158f273d3ba': 0, '6139af7b-0c3b-4620-b3cf-9f57c0b7df5b': 0, '10952782-261d-47bc-8daf-52ed9eea14df': 0, '122c375b-8134-4840-b300-4ec7c9cf094e': 0, '7a46500f-63d6-47c2-91e4-e3c549e793b5': 0, '79effb23-2e58-4e37-848a-147de922f15d': 1, 'ad8e139d-bbdd-4bba-8fee-67e533771219': 0, '61dee6a2-4628-44eb-b96e-1618aa9b0d4b': 0, 'a005b812-90e4-47fd-a683-3f34ddbdc948': 0, '061a7a02-3dbc-4ff2-8db4-1b99434d9a3f': 0, '211dd4bf-8f4c-4e72-8d61-315c7883711c': 0, 'fa299ea9-cae9-47f7-afea-6594ccfab420': 0, '06af41c7-040f-4bd5-8f0e-dca1e4abe5d5': 0, '4fafc2f3-0191-47fd-8116-1e8022bd0e82': 0, 'a4db3bde-c4eb-46b4-a3a2-3a5dc3dba187': 0, '862eb5cf-30e9-4e26-9cc8-0496566776f9': 0, 'a9180764-70aa-4456-9aa7-ed9465173c7c': 0, '5d18b06c-49a5-4c84-b149-a98facb085ff': 0, '3da505b0-15cc-48d3-8f2d-5eaea029be9e': 0, 'e8e4765c-01ef-4395-af12-c3aee21c7dfb': 1, 'f15b44a4-e6a5-4bfa-8463-19c6a9764ae1': 0, '51c3b6a1-dfc0-47eb-945c-22983dfb1a9a': 0, '5dbcafd9-4282-4ff8-baf0-2ce7f100f819': 0, '7f88626c-a4a3-4d60-ba06-b576b9daa4c0': 0, '29d47a78-549a-4923-b544-6f56dca206b0': 0, '7fd1a5f7-f718-4f46-95a1-7277a6d84703': 0, '33051a70-26fd-4a86-9c10-2d25594314b4': 0, '04ff7530-8a78-4332-99dd-4d03474bd6a7': 0, 'b7174a9c-e3dd-4fa0-9b40-9cf6232cfacd': 0, 'a744d4a3-9e7c-4f0c-9d45-42eb9f3d39e7': 1, 'b9f6a3fd-4da9-4244-aa4c-8a97f39aed1b': 0, '713b2211-4e49-4ef1-9c0a-6f98d31e38be': 0, 'eaf65e78-6521-44d4-ae43-dc2a99699f25': 0, '9dcf0c58-3660-41b0-9f1e-db0701a4a708': 0, 'e4ed885a-19a6-426d-8c97-d01587a47700': 0, '5e7a1ed5-77d2-4849-b0ca-bcee05c13214': 0, '4e662e1d-eaa2-4c22-ba25-6e718ef26475': 0, 'bf0d5bec-8837-474b-9c53-a0dae13f336d': 0, '80e1be8d-1f0a-46a7-b179-6d15168d6ebe': 0, '10fa3cb7-0345-4be9-b836-e0e86151b0e6': 0, 'b82d9199-747f-44ae-b000-4c7265dc177b': 0, 'b50af825-9aa6-46ae-b871-9dd28d54096f': 0, '7eadd849-6983-455e-a015-692696d8ca6d': 0, '7823292b-b3f6-47ae-ace5-ec3efd6d3c8c': 0, '357d6a1f-cb7a-4bb9-a8ae-6dafeeec50e4': 0, '44678089-6bb7-4f92-b5b1-d7517eb3af96': 1, '68bb1c50-0b30-4155-a629-6f4d7f3f96fe': 0, 'fc9b0232-ebf9-44bc-b4c0-497b7cadb7e2': 0, '883cc292-7cfd-4ecd-b22f-229eea64146f': 0, 'e3da9c40-f489-44f3-b6a9-d43b4949c30b': 0, 'cdd113ce-147b-44a8-b330-02c81e813162': 0, 'c223c121-33e1-4547-bd22-d34547199731': 0, '54eae56d-af97-457f-a0d8-a4bf68d0497b': 0, '865a4ebb-c66c-457e-8e57-90b53dc977ac': 0, '7fe9a679-8e4a-443d-b3f7-09139628d15c': 0, '08f74ba2-fefd-4fdf-b2c6-5450de72b3a9': 0, 'd021249d-4a8d-4a4a-9935-9c5c5ab4c4e2': 0, 'be0d1b4d-246b-4352-965e-f1d7eb47f179': 0, '761da8f8-59d2-4fc3-b505-0eef971c91d9': 0, 'e4acee42-672a-4849-8230-797cdb9f72a6': 0, '88627b0d-780c-4047-89d7-097133464d93': 0, '65d3cd22-10c5-49d4-a84b-b18cddb2636c': 0, 'f03c3704-73a2-4bc8-b29a-66163654094e': 0, '390a1648-8a33-4770-888a-45036a4074e6': 0, '543031ff-f6dc-4ee8-9066-c578405be9a6': 0, 'e2d8e5ca-2cb3-40a4-b41a-fee01bdadc27': 0, 'a5d62a12-b67c-4b1c-962e-3811ab4b387b': 0, '9af8182a-e8c2-4f51-8458-cba6ac554eba': 0, 'a31ee371-23d8-4379-a994-d72254f73920': 0, '84655da5-1b94-4a5e-b53d-4fcc42cc7bff': 0, '9259e93e-0732-468b-9afe-1c2f27a9f509': 0, '58f83db8-6758-4311-aea2-1931bea25cb4': 0, '81e43122-99d8-4197-b38b-20c3c3e68dcb': 0, '65024ef1-1927-45cd-a81f-add8002be8ba': 0, '3289740c-9a7a-4935-b603-aacc948cea6b': 0, 'aebb238e-6323-40aa-8272-0fe116f61ecc': 0, 'c8f25f9b-5dbe-4d36-b19e-5232b914997e': 0, '65a08d10-e524-41af-aa09-d0f2149fc687': 1, 'c6cee1b9-e39d-4890-870f-5ed042c3fee2': 0, '37678998-eec5-433b-9872-372e7a8ad8e4': 0, '8649f833-6589-48fe-b930-6d0e7a8b16ad': 0, '816b41b0-f5f8-49b2-b97a-b6813fcc9e88': 0, '17c491dd-28e0-420f-9626-341a4248507b': 0, 'a7c744d4-7fc0-4e4c-ac3b-f256cde668b3': 0, '0577a8b5-7db5-4dec-9aca-86532446d156': 0, '45ec526b-a105-43e6-9339-778f8d716730': 0, '9f2357ce-4fe4-4286-b39b-ca28e7d827b0': 0, '9a65230a-1cfa-47c5-bbdf-42a7b35c5325': 0, 'bf1b4500-75b7-46e4-8ed2-f55ccb512439': 0, 'c9825e6f-7b9a-4b9b-b2a4-dc9ab9ef53a6': 0, '2de812b8-b618-4391-8d3d-a2538693b424': 0, '575e0761-b270-4b7a-a3e1-4704499fb9d6': 0, '588f901d-b682-4fbb-af18-838f734b4298': 0, '04b7475d-443c-4112-a72f-e0d443440b02': 0, '6fbc1a26-7cfb-41c7-acb7-6bda6ab6596a': 0, '23bbd8fe-7a54-4773-bb5f-3e6cb775654d': 0, '26e779bd-ff7b-46f6-a99d-ff4bf3bb1098': 0, 'd6287a62-7017-4cf1-b17d-621ba9527cb4': 0, '294b3310-159a-4005-91a2-2766e26ea073': 0, '86f45b95-0a54-4e06-ba86-722c8085f0fa': 0, '599984a8-9275-4152-9642-83479ba61734': 0, '1ba7b71c-b88c-49a1-aa5b-50042e68c6e9': 0, '1dfe728f-7737-4059-8f0d-53b415caec19': 0, '86f28286-f7ba-48b4-98c2-5fd6ea6d5f0d': 0, '66ef8cfb-6490-46c9-bfc2-210d746acf18': 0, 'c0ba92b6-6c02-4014-b7ce-5c6d458342de': 0, '3c7c4c8d-08c2-4374-8ae5-d13052c3cd1a': 0, '6b7dd7a7-9344-49ed-9b45-892115f2a657': 0, 'ac8a95cb-4d5e-4734-8301-35aa0ba23a18': 0, '9844e129-8155-49f9-abde-121e7b3be1f2': 0, '5c809a5b-6eb3-4d74-a987-f34dcce194b5': 0, '5a80bfb3-d97a-4b4b-900d-c077533740ef': 0, 'fc7ad1da-0ff1-43dc-84e6-79da3f3466f3': 0, 'c642867c-e461-49e6-aed6-09de03717180': 0, '59b085c8-e10e-461e-b291-b1cb9d2b76a1': 0, '12054c99-c682-4c87-a5e4-dda5956bf9d8': 0, 'c8e826cc-b399-4a30-a5ab-a9c3465a2df5': 0, 'f5c8443c-aa6a-4817-9175-134e8db8bca1': 0, 'd3a9ef54-04ce-4d66-882f-37323854a878': 0, '4f7a40a3-9e01-4fd9-8068-34177b9920c4': 0, 'e7b13e81-4a3f-4873-8883-f6737cf8c546': 0, 'c78a204d-e234-4b87-a426-26c3a3b3091a': 0, 'c674eed2-8c2a-4b39-be5c-f1eba2c0c3ba': 0, '5c89fa2b-678c-48db-a343-bb6c7b9a9c50': 0, '86795f9f-80c5-4195-8497-30e2249e9a05': 0, 'd63125bd-ce9c-4332-aecf-902431fa7de8': 0, 'e2690aa9-3f2e-478a-8318-d8f2f1a5f38b': 0, '5a153275-32f4-4b43-b288-6808835c764e': 0, '9ae7c8fa-8e3f-46ca-872b-e9cd35f2d387': 0, '7b85a8b2-2c30-47af-bac5-3305f0ea5b17': 0, 'f57f554d-abe6-4516-a38f-f535c969ce01': 0, '0713e5db-63ad-46f8-88da-407b42c6e30f': 0, '84cabd4c-61fa-43de-af7c-13baa33e1e99': 0, '27a6f962-4fbf-40c7-8b19-fff7c24b1ed8': 0, '0e25c2a6-6fd1-48f7-aaeb-7f2342c107bf': 0, 'a9ce73ed-ed54-4fdf-9fae-5b9bb93325a9': 0, 'e8050020-38d1-4535-8cf9-63e5615107df': 0, 'b1025e17-4e1e-4b1b-b0bb-5130f0fd55be': 0, '8e1573ce-b81d-4219-97eb-f04b38acce98': 0, 'afdd28dd-c918-4109-a1f4-2e974b86b59c': 0, '884bb684-2b15-489e-9d02-e0bec26c7014': 0, '6be6eb4f-89ac-493b-8f50-200a73511090': 0, '3e196052-54a0-4e70-9b76-7c4c9b1ee646': 0, 'f634551b-539f-401b-b53a-953ade435faa': 0, '923744d1-060b-4d1e-b034-f2d55500b6a0': 0, 'cc97e966-ffc8-4794-99ad-410247296eb0': 0, '7606773d-fd77-49e8-a3af-688606136686': 0, '0e09f43a-baf3-42ae-8835-5823aef221d6': 0, '5802940e-570e-470b-b384-dd74d781a37f': 0, '00815b49-00b8-4d7a-b234-fb6ea6521e4f': 0, 'f0fbbebb-a572-4a56-90d5-d8caeb1423e4': 0, 'eaee1c8a-dc58-4d59-bf3b-cf865b4622c2': 0, '086fc1b8-3259-4d74-af34-1b2989899ce7': 0, 'fa5554c9-0698-47de-a47d-12081ce5e70d': 0, '8571a8b3-9b03-497b-9192-a6c22c2e059b': 0, '2921d419-b908-4ef4-bec2-1105bc08f9ae': 0, '93455a24-5fa7-47dd-8a63-f2afbc1dbbb2': 0, '21961ec4-f8b5-47e4-8b09-9e67dbe10a23': 0, '1b6b2cbf-aed3-4df7-a662-60a0a2a1f307': 0, '74f6757b-3f05-4234-837c-0298ca0c2da8': 0, 'a14f1a76-b03f-42ee-81fc-501c2e62ff44': 0, 'f8f2f789-d11d-4c6e-9b38-45e8ad9b2d97': 0, 'e3ed1012-e563-4ed3-a8a9-ecd7121c7753': 0, '00d00a36-2a02-486b-96c3-8c06bb5bee24': 0, '89f815ed-6c69-4f16-b708-8d323fbd9cd2': 0, '6467e5ad-e05a-4ab9-8150-c8b33cf0f6a5': 0, '5872ca64-f906-49b1-a319-fdcdafa2d753': 0, '8d0d7258-259e-41c5-b3e5-6668a4b6905f': 0, 'bb7a0fd0-ef0c-488f-b20e-b94ffc23ac0c': 0, 'f3978bc1-2993-42c5-9fe2-86ba626cfd68': 0, '770e87b0-b5d7-4ee7-a0df-8d8f75f09d2f': 0, '18f5cf14-d5b2-42cb-90a0-38175388b742': 0, 'efd102ce-65b2-4d4a-8d64-f44cb833d05e': 0, '1952e3d4-6770-4033-8e37-0ed2a9a02259': 0, '62a0ea8d-4572-43e2-b241-d8d64f2e2205': 0, 'cbee50bb-e6a4-46fd-bd2d-46c38acd894e': 0, '216f99a4-5063-475f-a270-ae8eaab180f6': 0, 'ff660263-0eee-4b08-b3cc-998a6efc3185': 0, 'ce361ab0-aeff-4add-9bfe-64ab47945a01': 0, '4d87c6f3-e21b-4734-a4e5-0a6de91083c0': 0, '311f1bd8-938e-46cc-816e-74372e9d2dea': 0, 'a79bb1c5-ca9d-4619-a93d-abfc7531284b': 0, 'c050cc01-a549-4c01-9a62-9f12c0804b81': 0, '4806b485-e6ce-4bb9-bed9-4f1ec0f56531': 0, '81d27ee8-c7eb-4204-84fe-c1bb0c0d76f1': 0, '5fd45da2-6bfe-4e35-a3c0-4cb933835629': 0, 'eccd58a5-1d9d-49e1-8fac-cbaf4deb023c': 0, 'ba3f964b-57c2-40e3-9f8d-6ae15df71a45': 0, 'bc7ad19d-e609-4f8f-8a99-c8e32e3475ab': 0, '47d10992-b891-42d8-89a1-98529ec84091': 0, '599d15c1-589c-4d9e-9394-97826cd4b536': 0, 'c7771773-d21f-4fa7-a24f-69cf5a249460': 0, 'ccd489f8-5d95-4d4f-b91b-2751a6554766': 0, 'b2a93d07-69d9-48e2-8e88-f234f279cbd2': 0, 'ab5cabb8-a76c-4d6b-83f4-45facab35d0a': 0, '517dafe4-8043-426f-b418-3bae18ad72d2': 0, '7042da21-1393-40fd-91b0-53426ff178fe': 0, '42f2fba2-ddb6-4328-973c-968957e53c58': 0, '9dff08ad-1f1e-440d-a789-2eb76c0412db': 0, 'a458bb15-3cd0-4879-8d8b-f298ec346f44': 0, '664de2c9-e813-442a-83e3-ca9c352c1393': 0, '75e781f9-d2ca-4ca6-b5f0-82566fd30404': 0, '846970a2-0c2f-425c-8528-2053bb153b3d': 0, 'b371b201-3b3a-4d95-9d2b-57a978a5fa26': 0, '0ba34831-8400-4c6c-9bfd-c5c35f045f5b': 0, '75033cd0-cc15-47fb-b58c-ed0e6ee38440': 0, 'a796f06c-8174-49a8-a177-75bf21a76b82': 0, '9e5b5e9c-29eb-4bfb-b1da-85a8cdac0fa1': 0, 'ddb958dd-d5a0-4875-a2f7-d9ccaf911da1': 0, 'ebf7e2a6-0d04-4c9e-8b50-ff0df6bcfb3a': 0, 'f397b9ba-d909-4736-ae25-c1f102a276b6': 0, '3a479498-c28e-4aa7-b872-013961a7ea5b': 0, '4f506d93-dce3-44ff-9b3f-d1b81fdc35f9': 0, 'f4a51dbf-1c44-4c4a-9ef5-1f69bfbda5c2': 0, '9a321fd3-57a2-455e-b6a7-66e1b1c21ed8': 0, '01c37ef3-292f-4c06-8bdd-9c8ab5161b60': 0, 'b984070f-2fb6-416b-900b-29725ac1ae82': 0, 'f166f904-362b-42de-b33c-96df769f9b0b': 0, 'e76e92a7-a481-45a7-a07a-b091c5c69940': 0, '4a34855c-7d72-4bf4-9a49-7e7e370dadc9': 0, 'f94396e0-b14b-4321-9118-590ca37f1df6': 0, '97badccb-14fd-4079-a69e-6175155f4505': 0, '1addde2c-9e24-4baa-a194-f91738c74419': 0, '6bc571fa-98fe-43d9-ba51-d6ed84061616': 0, '0c763035-28eb-41aa-938a-7e5e44efc4d9': 0, '6705fa23-b997-4e01-b4ec-d9f66ea9136f': 0, 'eaeab5d7-4b8b-4644-8248-ec1b2c26f8fa': 0, '8ea0f4cd-e352-47cc-8cfe-c45e6dadcdc4': 0, '3621075c-0452-4e98-a693-f95d9cc86370': 0, 'b8e7d453-5e1a-4bda-b62c-39a51e17e5e9': 0, 'dba1c0db-d12c-49e4-ab3c-e990e42ae478': 0, '43dc111a-82d4-4f29-bc29-46931c93fc8e': 0, '03360e2e-9738-44ac-a551-39a0278ae1fc': 0, '1cd14f1d-05e3-4e1b-a362-2f78a2bebd17': 0, 'a1c923d0-703f-4406-8bc2-7da8123464e8': 0, 'f740d3ff-fc83-4447-888e-1adcacf4af7c': 0, 'a03c8bd9-3e7e-4d6e-a74d-85d1357eff35': 0, '55718861-03d2-4efc-85b3-a8315f08b38c': 0, 'dda8f0f1-daaf-40ac-91b0-871b61459f67': 0, '84810e5e-2013-48d2-95ac-05352eaf3f25': 0, '76b62cbf-26fb-437e-ac26-830a36b48a81': 0, '820dd9d9-dc42-46ff-a916-f5cf40a77e1c': 0, '5e99da20-b373-4f2e-af74-82f6d565673c': 0, 'b6c4b022-f61f-4480-bdbb-5e89ca99b8ab': 0, '762d37f3-f88f-4fe6-8754-ef30c99c02ef': 0, 'a4c3af0c-2691-4e89-acee-3787bef16852': 0, '2af1a469-5d73-46da-b8ba-1232a0558e74': 0, '127d3b9b-b0f4-41b6-b3b8-bb7ea7e4b700': 0, '6c5a4115-bac4-46ca-ae82-9263d0a90d27': 0, '6b7d6c14-1597-41dd-b5a9-83223ad1282e': 0, '41fad3ba-7d0a-4121-afca-109dc7c26251': 0, '5ce2b661-20c4-4bb0-a4df-4afb2e3d66c5': 0, 'f89127e7-3d34-4a6c-b0c2-bc022d831d19': 0, '9687f9b9-5b66-4a8a-a34b-29c3f9e99609': 0, '65711878-280d-4feb-8f51-565bcc2d754e': 0, '13176daa-8ee9-462f-814c-cbcd2caf74fe': 0, '67ac6bc5-7b9d-4281-9a63-873046ebce3b': 0, 'f9952aa1-e9bd-4eea-93fa-38f19747dccb': 0, '6fab5e69-00db-4490-8638-ae199735ec4e': 0, 'f7815f8e-3600-47b3-b52d-3180dd115e1f': 0, '9a842f63-fbb2-4d51-89e6-c3da734ceaf6': 0, '0e59fe41-01e7-489d-9683-852d263fae05': 0, '6ca02b4d-4839-4f53-8779-dea5de66dc21': 0, '0fe94395-3ae7-4493-aa14-ba2b418cb15d': 0, '41a03c16-f755-4634-875a-746f18817280': 0, '3f1e47dc-00e8-49cd-8bc9-e6e84c0289da': 0, '48bef181-bf60-4628-9d9f-fa997da8ecb6': 0, 'd82ecf57-9d96-40ad-a867-5cb14c310134': 0, '17ec39ee-006a-4b45-b108-06df8a45b11e': 0, 'fe78aa4b-7acb-4459-81ec-f732d4db1ab2': 0, 'f2196d2d-5f01-4b4b-9f9a-aded91d06a27': 0, 'ffc2cc77-2b1c-42f3-a0db-e5992f69d140': 0, '642c015f-45e1-4e27-b316-a0e4c3ed2e38': 0, '9c7e670e-c6bc-4e0c-8fb7-f86d996c3812': 0, '03589208-ded0-49e0-a032-75df80464fc6': 0, '308ed4de-0dee-45e9-811c-7f2f80b1b55d': 0, '91a0d1e1-b7c6-432f-a5d4-b42bf8f112b6': 0, '599948b3-9dda-4b8d-af9d-853978205188': 0}\n",
      "327\n"
     ]
    }
   ],
   "source": [
    "print(check_total[0])\n",
    "print(len(check_total[0]))"
   ]
  },
  {
   "cell_type": "code",
   "execution_count": 80,
   "metadata": {},
   "outputs": [
    {
     "data": {
      "text/html": [
       "<div>\n",
       "<style scoped>\n",
       "    .dataframe tbody tr th:only-of-type {\n",
       "        vertical-align: middle;\n",
       "    }\n",
       "\n",
       "    .dataframe tbody tr th {\n",
       "        vertical-align: top;\n",
       "    }\n",
       "\n",
       "    .dataframe thead th {\n",
       "        text-align: right;\n",
       "    }\n",
       "</style>\n",
       "<table border=\"1\" class=\"dataframe\">\n",
       "  <thead>\n",
       "    <tr style=\"text-align: right;\">\n",
       "      <th></th>\n",
       "      <th>id</th>\n",
       "      <th>8b618996-982c-4acf-84f7-400e7cff6cc7</th>\n",
       "      <th>89254254-b5c6-4a29-ae67-fee29998a23e</th>\n",
       "      <th>92bf8ca1-8819-4d46-8039-b89a9df8dace</th>\n",
       "      <th>33cfb439-065a-45c4-8068-9575a8f69833</th>\n",
       "      <th>63018642-b3ce-47b0-a767-103b7ecc26d9</th>\n",
       "      <th>ba33d2c0-2dba-4d22-bd5f-e6de73b77439</th>\n",
       "      <th>64ac0f42-cf07-4c23-afde-bf5e66747d4b</th>\n",
       "      <th>9b36cec1-e33e-4f99-bc8d-47bc7d5a63ed</th>\n",
       "      <th>7da2be02-1ed5-47b1-8774-e78637ccdd4d</th>\n",
       "      <th>...</th>\n",
       "      <th>17ec39ee-006a-4b45-b108-06df8a45b11e</th>\n",
       "      <th>fe78aa4b-7acb-4459-81ec-f732d4db1ab2</th>\n",
       "      <th>f2196d2d-5f01-4b4b-9f9a-aded91d06a27</th>\n",
       "      <th>ffc2cc77-2b1c-42f3-a0db-e5992f69d140</th>\n",
       "      <th>642c015f-45e1-4e27-b316-a0e4c3ed2e38</th>\n",
       "      <th>9c7e670e-c6bc-4e0c-8fb7-f86d996c3812</th>\n",
       "      <th>03589208-ded0-49e0-a032-75df80464fc6</th>\n",
       "      <th>308ed4de-0dee-45e9-811c-7f2f80b1b55d</th>\n",
       "      <th>91a0d1e1-b7c6-432f-a5d4-b42bf8f112b6</th>\n",
       "      <th>599948b3-9dda-4b8d-af9d-853978205188</th>\n",
       "    </tr>\n",
       "  </thead>\n",
       "  <tbody>\n",
       "    <tr>\n",
       "      <th>0</th>\n",
       "      <td>ed9dac0c-8bd6-4c39-833c-7c08b3457f3d</td>\n",
       "      <td>0</td>\n",
       "      <td>0</td>\n",
       "      <td>0</td>\n",
       "      <td>0</td>\n",
       "      <td>0</td>\n",
       "      <td>1</td>\n",
       "      <td>0</td>\n",
       "      <td>0</td>\n",
       "      <td>0</td>\n",
       "      <td>...</td>\n",
       "      <td>0</td>\n",
       "      <td>0</td>\n",
       "      <td>0</td>\n",
       "      <td>0</td>\n",
       "      <td>0</td>\n",
       "      <td>0</td>\n",
       "      <td>0</td>\n",
       "      <td>0</td>\n",
       "      <td>0</td>\n",
       "      <td>0</td>\n",
       "    </tr>\n",
       "    <tr>\n",
       "      <th>1</th>\n",
       "      <td>debf9663-1fcc-4712-83a1-f89985d40278</td>\n",
       "      <td>0</td>\n",
       "      <td>0</td>\n",
       "      <td>0</td>\n",
       "      <td>0</td>\n",
       "      <td>0</td>\n",
       "      <td>1</td>\n",
       "      <td>0</td>\n",
       "      <td>0</td>\n",
       "      <td>0</td>\n",
       "      <td>...</td>\n",
       "      <td>0</td>\n",
       "      <td>0</td>\n",
       "      <td>0</td>\n",
       "      <td>0</td>\n",
       "      <td>0</td>\n",
       "      <td>0</td>\n",
       "      <td>0</td>\n",
       "      <td>0</td>\n",
       "      <td>0</td>\n",
       "      <td>0</td>\n",
       "    </tr>\n",
       "    <tr>\n",
       "      <th>2</th>\n",
       "      <td>99cad92a-6ad6-47f7-b2a7-1610476bafc5</td>\n",
       "      <td>0</td>\n",
       "      <td>0</td>\n",
       "      <td>0</td>\n",
       "      <td>0</td>\n",
       "      <td>0</td>\n",
       "      <td>1</td>\n",
       "      <td>0</td>\n",
       "      <td>1</td>\n",
       "      <td>1</td>\n",
       "      <td>...</td>\n",
       "      <td>0</td>\n",
       "      <td>0</td>\n",
       "      <td>0</td>\n",
       "      <td>0</td>\n",
       "      <td>0</td>\n",
       "      <td>0</td>\n",
       "      <td>0</td>\n",
       "      <td>0</td>\n",
       "      <td>0</td>\n",
       "      <td>0</td>\n",
       "    </tr>\n",
       "    <tr>\n",
       "      <th>3</th>\n",
       "      <td>d6454496-cad0-418a-a74f-da94698fef4d</td>\n",
       "      <td>0</td>\n",
       "      <td>0</td>\n",
       "      <td>0</td>\n",
       "      <td>0</td>\n",
       "      <td>0</td>\n",
       "      <td>0</td>\n",
       "      <td>0</td>\n",
       "      <td>0</td>\n",
       "      <td>0</td>\n",
       "      <td>...</td>\n",
       "      <td>0</td>\n",
       "      <td>0</td>\n",
       "      <td>0</td>\n",
       "      <td>0</td>\n",
       "      <td>0</td>\n",
       "      <td>0</td>\n",
       "      <td>0</td>\n",
       "      <td>0</td>\n",
       "      <td>0</td>\n",
       "      <td>0</td>\n",
       "    </tr>\n",
       "    <tr>\n",
       "      <th>4</th>\n",
       "      <td>c08e2e28-e3b0-45de-b3ea-335a3a986942</td>\n",
       "      <td>0</td>\n",
       "      <td>0</td>\n",
       "      <td>0</td>\n",
       "      <td>0</td>\n",
       "      <td>0</td>\n",
       "      <td>0</td>\n",
       "      <td>0</td>\n",
       "      <td>0</td>\n",
       "      <td>0</td>\n",
       "      <td>...</td>\n",
       "      <td>0</td>\n",
       "      <td>0</td>\n",
       "      <td>0</td>\n",
       "      <td>0</td>\n",
       "      <td>0</td>\n",
       "      <td>0</td>\n",
       "      <td>0</td>\n",
       "      <td>0</td>\n",
       "      <td>0</td>\n",
       "      <td>0</td>\n",
       "    </tr>\n",
       "  </tbody>\n",
       "</table>\n",
       "<p>5 rows × 327 columns</p>\n",
       "</div>"
      ],
      "text/plain": [
       "                                     id  8b618996-982c-4acf-84f7-400e7cff6cc7  \\\n",
       "0  ed9dac0c-8bd6-4c39-833c-7c08b3457f3d                                     0   \n",
       "1  debf9663-1fcc-4712-83a1-f89985d40278                                     0   \n",
       "2  99cad92a-6ad6-47f7-b2a7-1610476bafc5                                     0   \n",
       "3  d6454496-cad0-418a-a74f-da94698fef4d                                     0   \n",
       "4  c08e2e28-e3b0-45de-b3ea-335a3a986942                                     0   \n",
       "\n",
       "   89254254-b5c6-4a29-ae67-fee29998a23e  92bf8ca1-8819-4d46-8039-b89a9df8dace  \\\n",
       "0                                     0                                     0   \n",
       "1                                     0                                     0   \n",
       "2                                     0                                     0   \n",
       "3                                     0                                     0   \n",
       "4                                     0                                     0   \n",
       "\n",
       "   33cfb439-065a-45c4-8068-9575a8f69833  63018642-b3ce-47b0-a767-103b7ecc26d9  \\\n",
       "0                                     0                                     0   \n",
       "1                                     0                                     0   \n",
       "2                                     0                                     0   \n",
       "3                                     0                                     0   \n",
       "4                                     0                                     0   \n",
       "\n",
       "   ba33d2c0-2dba-4d22-bd5f-e6de73b77439  64ac0f42-cf07-4c23-afde-bf5e66747d4b  \\\n",
       "0                                     1                                     0   \n",
       "1                                     1                                     0   \n",
       "2                                     1                                     0   \n",
       "3                                     0                                     0   \n",
       "4                                     0                                     0   \n",
       "\n",
       "   9b36cec1-e33e-4f99-bc8d-47bc7d5a63ed  7da2be02-1ed5-47b1-8774-e78637ccdd4d  \\\n",
       "0                                     0                                     0   \n",
       "1                                     0                                     0   \n",
       "2                                     1                                     1   \n",
       "3                                     0                                     0   \n",
       "4                                     0                                     0   \n",
       "\n",
       "   ...  17ec39ee-006a-4b45-b108-06df8a45b11e  \\\n",
       "0  ...                                     0   \n",
       "1  ...                                     0   \n",
       "2  ...                                     0   \n",
       "3  ...                                     0   \n",
       "4  ...                                     0   \n",
       "\n",
       "   fe78aa4b-7acb-4459-81ec-f732d4db1ab2  f2196d2d-5f01-4b4b-9f9a-aded91d06a27  \\\n",
       "0                                     0                                     0   \n",
       "1                                     0                                     0   \n",
       "2                                     0                                     0   \n",
       "3                                     0                                     0   \n",
       "4                                     0                                     0   \n",
       "\n",
       "   ffc2cc77-2b1c-42f3-a0db-e5992f69d140  642c015f-45e1-4e27-b316-a0e4c3ed2e38  \\\n",
       "0                                     0                                     0   \n",
       "1                                     0                                     0   \n",
       "2                                     0                                     0   \n",
       "3                                     0                                     0   \n",
       "4                                     0                                     0   \n",
       "\n",
       "   9c7e670e-c6bc-4e0c-8fb7-f86d996c3812  03589208-ded0-49e0-a032-75df80464fc6  \\\n",
       "0                                     0                                     0   \n",
       "1                                     0                                     0   \n",
       "2                                     0                                     0   \n",
       "3                                     0                                     0   \n",
       "4                                     0                                     0   \n",
       "\n",
       "   308ed4de-0dee-45e9-811c-7f2f80b1b55d  91a0d1e1-b7c6-432f-a5d4-b42bf8f112b6  \\\n",
       "0                                     0                                     0   \n",
       "1                                     0                                     0   \n",
       "2                                     0                                     0   \n",
       "3                                     0                                     0   \n",
       "4                                     0                                     0   \n",
       "\n",
       "   599948b3-9dda-4b8d-af9d-853978205188  \n",
       "0                                     0  \n",
       "1                                     0  \n",
       "2                                     0  \n",
       "3                                     0  \n",
       "4                                     0  \n",
       "\n",
       "[5 rows x 327 columns]"
      ]
     },
     "execution_count": 80,
     "metadata": {},
     "output_type": "execute_result"
    }
   ],
   "source": [
    "\n",
    "df = pd.DataFrame(data=check_total, columns=columns)\n",
    "df.head()"
   ]
  },
  {
   "cell_type": "code",
   "execution_count": 82,
   "metadata": {},
   "outputs": [
    {
     "data": {
      "text/plain": [
       "(15259, 327)"
      ]
     },
     "execution_count": 82,
     "metadata": {},
     "output_type": "execute_result"
    }
   ],
   "source": [
    "# Таким образом мы получили матрицу из 15259 (чеков) строк на 327 столбца (признака)\n",
    "df.shape"
   ]
  },
  {
   "cell_type": "code",
   "execution_count": 84,
   "metadata": {},
   "outputs": [],
   "source": [
    "# сохраним датафрейв в pikl чтобы не создавать его каждый раз\n",
    "df.to_pickle('myDataFrame.pkl')"
   ]
  },
  {
   "cell_type": "code",
   "execution_count": 90,
   "metadata": {},
   "outputs": [
    {
     "data": {
      "text/html": [
       "<div>\n",
       "<style scoped>\n",
       "    .dataframe tbody tr th:only-of-type {\n",
       "        vertical-align: middle;\n",
       "    }\n",
       "\n",
       "    .dataframe tbody tr th {\n",
       "        vertical-align: top;\n",
       "    }\n",
       "\n",
       "    .dataframe thead th {\n",
       "        text-align: right;\n",
       "    }\n",
       "</style>\n",
       "<table border=\"1\" class=\"dataframe\">\n",
       "  <thead>\n",
       "    <tr style=\"text-align: right;\">\n",
       "      <th></th>\n",
       "      <th>id</th>\n",
       "      <th>8b618996-982c-4acf-84f7-400e7cff6cc7</th>\n",
       "      <th>89254254-b5c6-4a29-ae67-fee29998a23e</th>\n",
       "      <th>92bf8ca1-8819-4d46-8039-b89a9df8dace</th>\n",
       "      <th>33cfb439-065a-45c4-8068-9575a8f69833</th>\n",
       "      <th>63018642-b3ce-47b0-a767-103b7ecc26d9</th>\n",
       "      <th>ba33d2c0-2dba-4d22-bd5f-e6de73b77439</th>\n",
       "      <th>64ac0f42-cf07-4c23-afde-bf5e66747d4b</th>\n",
       "      <th>9b36cec1-e33e-4f99-bc8d-47bc7d5a63ed</th>\n",
       "      <th>7da2be02-1ed5-47b1-8774-e78637ccdd4d</th>\n",
       "      <th>...</th>\n",
       "      <th>17ec39ee-006a-4b45-b108-06df8a45b11e</th>\n",
       "      <th>fe78aa4b-7acb-4459-81ec-f732d4db1ab2</th>\n",
       "      <th>f2196d2d-5f01-4b4b-9f9a-aded91d06a27</th>\n",
       "      <th>ffc2cc77-2b1c-42f3-a0db-e5992f69d140</th>\n",
       "      <th>642c015f-45e1-4e27-b316-a0e4c3ed2e38</th>\n",
       "      <th>9c7e670e-c6bc-4e0c-8fb7-f86d996c3812</th>\n",
       "      <th>03589208-ded0-49e0-a032-75df80464fc6</th>\n",
       "      <th>308ed4de-0dee-45e9-811c-7f2f80b1b55d</th>\n",
       "      <th>91a0d1e1-b7c6-432f-a5d4-b42bf8f112b6</th>\n",
       "      <th>599948b3-9dda-4b8d-af9d-853978205188</th>\n",
       "    </tr>\n",
       "  </thead>\n",
       "  <tbody>\n",
       "    <tr>\n",
       "      <th>0</th>\n",
       "      <td>ed9dac0c-8bd6-4c39-833c-7c08b3457f3d</td>\n",
       "      <td>0</td>\n",
       "      <td>0</td>\n",
       "      <td>0</td>\n",
       "      <td>0</td>\n",
       "      <td>0</td>\n",
       "      <td>1</td>\n",
       "      <td>0</td>\n",
       "      <td>0</td>\n",
       "      <td>0</td>\n",
       "      <td>...</td>\n",
       "      <td>0</td>\n",
       "      <td>0</td>\n",
       "      <td>0</td>\n",
       "      <td>0</td>\n",
       "      <td>0</td>\n",
       "      <td>0</td>\n",
       "      <td>0</td>\n",
       "      <td>0</td>\n",
       "      <td>0</td>\n",
       "      <td>0</td>\n",
       "    </tr>\n",
       "    <tr>\n",
       "      <th>1</th>\n",
       "      <td>debf9663-1fcc-4712-83a1-f89985d40278</td>\n",
       "      <td>0</td>\n",
       "      <td>0</td>\n",
       "      <td>0</td>\n",
       "      <td>0</td>\n",
       "      <td>0</td>\n",
       "      <td>1</td>\n",
       "      <td>0</td>\n",
       "      <td>0</td>\n",
       "      <td>0</td>\n",
       "      <td>...</td>\n",
       "      <td>0</td>\n",
       "      <td>0</td>\n",
       "      <td>0</td>\n",
       "      <td>0</td>\n",
       "      <td>0</td>\n",
       "      <td>0</td>\n",
       "      <td>0</td>\n",
       "      <td>0</td>\n",
       "      <td>0</td>\n",
       "      <td>0</td>\n",
       "    </tr>\n",
       "    <tr>\n",
       "      <th>2</th>\n",
       "      <td>99cad92a-6ad6-47f7-b2a7-1610476bafc5</td>\n",
       "      <td>0</td>\n",
       "      <td>0</td>\n",
       "      <td>0</td>\n",
       "      <td>0</td>\n",
       "      <td>0</td>\n",
       "      <td>1</td>\n",
       "      <td>0</td>\n",
       "      <td>1</td>\n",
       "      <td>1</td>\n",
       "      <td>...</td>\n",
       "      <td>0</td>\n",
       "      <td>0</td>\n",
       "      <td>0</td>\n",
       "      <td>0</td>\n",
       "      <td>0</td>\n",
       "      <td>0</td>\n",
       "      <td>0</td>\n",
       "      <td>0</td>\n",
       "      <td>0</td>\n",
       "      <td>0</td>\n",
       "    </tr>\n",
       "    <tr>\n",
       "      <th>3</th>\n",
       "      <td>d6454496-cad0-418a-a74f-da94698fef4d</td>\n",
       "      <td>0</td>\n",
       "      <td>0</td>\n",
       "      <td>0</td>\n",
       "      <td>0</td>\n",
       "      <td>0</td>\n",
       "      <td>0</td>\n",
       "      <td>0</td>\n",
       "      <td>0</td>\n",
       "      <td>0</td>\n",
       "      <td>...</td>\n",
       "      <td>0</td>\n",
       "      <td>0</td>\n",
       "      <td>0</td>\n",
       "      <td>0</td>\n",
       "      <td>0</td>\n",
       "      <td>0</td>\n",
       "      <td>0</td>\n",
       "      <td>0</td>\n",
       "      <td>0</td>\n",
       "      <td>0</td>\n",
       "    </tr>\n",
       "    <tr>\n",
       "      <th>4</th>\n",
       "      <td>c08e2e28-e3b0-45de-b3ea-335a3a986942</td>\n",
       "      <td>0</td>\n",
       "      <td>0</td>\n",
       "      <td>0</td>\n",
       "      <td>0</td>\n",
       "      <td>0</td>\n",
       "      <td>0</td>\n",
       "      <td>0</td>\n",
       "      <td>0</td>\n",
       "      <td>0</td>\n",
       "      <td>...</td>\n",
       "      <td>0</td>\n",
       "      <td>0</td>\n",
       "      <td>0</td>\n",
       "      <td>0</td>\n",
       "      <td>0</td>\n",
       "      <td>0</td>\n",
       "      <td>0</td>\n",
       "      <td>0</td>\n",
       "      <td>0</td>\n",
       "      <td>0</td>\n",
       "    </tr>\n",
       "  </tbody>\n",
       "</table>\n",
       "<p>5 rows × 327 columns</p>\n",
       "</div>"
      ],
      "text/plain": [
       "                                     id  8b618996-982c-4acf-84f7-400e7cff6cc7  \\\n",
       "0  ed9dac0c-8bd6-4c39-833c-7c08b3457f3d                                     0   \n",
       "1  debf9663-1fcc-4712-83a1-f89985d40278                                     0   \n",
       "2  99cad92a-6ad6-47f7-b2a7-1610476bafc5                                     0   \n",
       "3  d6454496-cad0-418a-a74f-da94698fef4d                                     0   \n",
       "4  c08e2e28-e3b0-45de-b3ea-335a3a986942                                     0   \n",
       "\n",
       "   89254254-b5c6-4a29-ae67-fee29998a23e  92bf8ca1-8819-4d46-8039-b89a9df8dace  \\\n",
       "0                                     0                                     0   \n",
       "1                                     0                                     0   \n",
       "2                                     0                                     0   \n",
       "3                                     0                                     0   \n",
       "4                                     0                                     0   \n",
       "\n",
       "   33cfb439-065a-45c4-8068-9575a8f69833  63018642-b3ce-47b0-a767-103b7ecc26d9  \\\n",
       "0                                     0                                     0   \n",
       "1                                     0                                     0   \n",
       "2                                     0                                     0   \n",
       "3                                     0                                     0   \n",
       "4                                     0                                     0   \n",
       "\n",
       "   ba33d2c0-2dba-4d22-bd5f-e6de73b77439  64ac0f42-cf07-4c23-afde-bf5e66747d4b  \\\n",
       "0                                     1                                     0   \n",
       "1                                     1                                     0   \n",
       "2                                     1                                     0   \n",
       "3                                     0                                     0   \n",
       "4                                     0                                     0   \n",
       "\n",
       "   9b36cec1-e33e-4f99-bc8d-47bc7d5a63ed  7da2be02-1ed5-47b1-8774-e78637ccdd4d  \\\n",
       "0                                     0                                     0   \n",
       "1                                     0                                     0   \n",
       "2                                     1                                     1   \n",
       "3                                     0                                     0   \n",
       "4                                     0                                     0   \n",
       "\n",
       "   ...  17ec39ee-006a-4b45-b108-06df8a45b11e  \\\n",
       "0  ...                                     0   \n",
       "1  ...                                     0   \n",
       "2  ...                                     0   \n",
       "3  ...                                     0   \n",
       "4  ...                                     0   \n",
       "\n",
       "   fe78aa4b-7acb-4459-81ec-f732d4db1ab2  f2196d2d-5f01-4b4b-9f9a-aded91d06a27  \\\n",
       "0                                     0                                     0   \n",
       "1                                     0                                     0   \n",
       "2                                     0                                     0   \n",
       "3                                     0                                     0   \n",
       "4                                     0                                     0   \n",
       "\n",
       "   ffc2cc77-2b1c-42f3-a0db-e5992f69d140  642c015f-45e1-4e27-b316-a0e4c3ed2e38  \\\n",
       "0                                     0                                     0   \n",
       "1                                     0                                     0   \n",
       "2                                     0                                     0   \n",
       "3                                     0                                     0   \n",
       "4                                     0                                     0   \n",
       "\n",
       "   9c7e670e-c6bc-4e0c-8fb7-f86d996c3812  03589208-ded0-49e0-a032-75df80464fc6  \\\n",
       "0                                     0                                     0   \n",
       "1                                     0                                     0   \n",
       "2                                     0                                     0   \n",
       "3                                     0                                     0   \n",
       "4                                     0                                     0   \n",
       "\n",
       "   308ed4de-0dee-45e9-811c-7f2f80b1b55d  91a0d1e1-b7c6-432f-a5d4-b42bf8f112b6  \\\n",
       "0                                     0                                     0   \n",
       "1                                     0                                     0   \n",
       "2                                     0                                     0   \n",
       "3                                     0                                     0   \n",
       "4                                     0                                     0   \n",
       "\n",
       "   599948b3-9dda-4b8d-af9d-853978205188  \n",
       "0                                     0  \n",
       "1                                     0  \n",
       "2                                     0  \n",
       "3                                     0  \n",
       "4                                     0  \n",
       "\n",
       "[5 rows x 327 columns]"
      ]
     },
     "execution_count": 90,
     "metadata": {},
     "output_type": "execute_result"
    }
   ],
   "source": [
    "# Загрузим данные обратно из pickle\n",
    "df2 = pd.read_pickle('myDataFrame.pkl')\n",
    "df2.head()"
   ]
  },
  {
   "cell_type": "code",
   "execution_count": 91,
   "metadata": {},
   "outputs": [
    {
     "name": "stderr",
     "output_type": "stream",
     "text": [
      "100%|██████████| 15/15 [00:11<00:00,  1.26it/s]\n"
     ]
    }
   ],
   "source": [
    "matrix = df2.drop('id', axis=1)\n",
    "model = implicit.als.AlternatingLeastSquares(factors=327)\n",
    "sparse_item = csr_matrix(matrix.values).tocsr()\n",
    "model.fit(sparse_item)\n"
   ]
  },
  {
   "cell_type": "code",
   "execution_count": 92,
   "metadata": {},
   "outputs": [
    {
     "data": {
      "text/plain": [
       "[(2, 1.0),\n",
       " (2555, 0.6911632),\n",
       " (4791, 0.5658057),\n",
       " (6562, 0.56316745),\n",
       " (14074, 0.5534048),\n",
       " (1753, 0.5489883),\n",
       " (138, 0.528832),\n",
       " (14976, 0.52562326),\n",
       " (10943, 0.5226507),\n",
       " (11446, 0.5220333)]"
      ]
     },
     "execution_count": 92,
     "metadata": {},
     "output_type": "execute_result"
    }
   ],
   "source": [
    "idx = 2 # Найдем похожие на 2 чек\n",
    "related = model.similar_items(idx, N=10)\n",
    "related"
   ]
  },
  {
   "cell_type": "code",
   "execution_count": 101,
   "metadata": {},
   "outputs": [
    {
     "data": {
      "text/plain": [
       "pandas.core.series.Series"
      ]
     },
     "execution_count": 101,
     "metadata": {},
     "output_type": "execute_result"
    }
   ],
   "source": [
    "df2.iloc[2]"
   ]
  },
  {
   "cell_type": "code",
   "execution_count": 115,
   "metadata": {},
   "outputs": [],
   "source": [
    "def dropZeroProduct(series, product_dict):\n",
    "    product = [];\n",
    "    for index, value in series.items():\n",
    "        if value != 0:\n",
    "            if index != 'id':\n",
    "                product.append(product_dict[index])\n",
    "\n",
    "    \n",
    "    return product"
   ]
  },
  {
   "cell_type": "code",
   "execution_count": 116,
   "metadata": {},
   "outputs": [
    {
     "data": {
      "text/plain": [
       "['Номер',\n",
       " 'Острые',\n",
       " 'Соус кетчуп (50 г)',\n",
       " 'Токпоки 210гр',\n",
       " 'Бекон (70 г)',\n",
       " 'Ничего ',\n",
       " 'Пуннопан с заварным кремом ',\n",
       " 'Карбонара токпоки 210гр',\n",
       " 'Корн-Дог с фри ',\n",
       " 'Соус розовый (50 г) ',\n",
       " '12',\n",
       " 'Чай Эрл Грей']"
      ]
     },
     "execution_count": 116,
     "metadata": {},
     "output_type": "execute_result"
    }
   ],
   "source": [
    "# Наш основной товар\n",
    "prod = dropZeroProduct(df2.iloc[2], product_dict)\n",
    "prod"
   ]
  },
  {
   "cell_type": "code",
   "execution_count": 117,
   "metadata": {},
   "outputs": [
    {
     "data": {
      "text/plain": [
       "['Номер',\n",
       " 'Острые',\n",
       " 'Соус чесночный (50 г)',\n",
       " 'Токпоки 210гр',\n",
       " 'Ничего ',\n",
       " 'Корн - дог фри и сыром',\n",
       " 'Соус розовый (50 г) ',\n",
       " '12',\n",
       " 'Чай Эрл Грей']"
      ]
     },
     "execution_count": 117,
     "metadata": {},
     "output_type": "execute_result"
    }
   ],
   "source": [
    "# Первый рекомендованный товар\n",
    "prod2 = dropZeroProduct(df2.iloc[2555], product_dict)\n",
    "prod2"
   ]
  },
  {
   "cell_type": "code",
   "execution_count": 130,
   "metadata": {},
   "outputs": [
    {
     "data": {
      "text/plain": [
       "['Номер',\n",
       " 'Острые',\n",
       " 'Токпоки 210гр',\n",
       " 'Бекон (70 г)',\n",
       " 'Карбонара токпоки 210гр',\n",
       " '4']"
      ]
     },
     "execution_count": 130,
     "metadata": {},
     "output_type": "execute_result"
    }
   ],
   "source": [
    "prod3 = dropZeroProduct(df2.iloc[4791], product_dict)\n",
    "prod3"
   ]
  },
  {
   "cell_type": "code",
   "execution_count": 132,
   "metadata": {},
   "outputs": [
    {
     "data": {
      "text/plain": [
       "['Номер',\n",
       " 'Острые',\n",
       " 'Токпоки 210гр',\n",
       " 'Бекон (70 г)',\n",
       " 'Карбонара токпоки 210гр',\n",
       " '9']"
      ]
     },
     "execution_count": 132,
     "metadata": {},
     "output_type": "execute_result"
    }
   ],
   "source": [
    "prod4 = dropZeroProduct(df2.iloc[6562], product_dict)\n",
    "prod4"
   ]
  },
  {
   "cell_type": "code",
   "execution_count": 133,
   "metadata": {},
   "outputs": [
    {
     "data": {
      "text/plain": [
       "['Номер',\n",
       " 'Острые',\n",
       " 'Токпоки 210гр',\n",
       " 'Ничего ',\n",
       " 'Кимпаб ',\n",
       " 'Филе куриное (30 г)',\n",
       " 'Соус сырный (50 г)',\n",
       " 'Корн-Дог с фри ',\n",
       " '1',\n",
       " 'Чай Эрл Грей']"
      ]
     },
     "execution_count": 133,
     "metadata": {},
     "output_type": "execute_result"
    }
   ],
   "source": [
    "prod5 = dropZeroProduct(df2.iloc[14074], product_dict)\n",
    "prod5"
   ]
  },
  {
   "cell_type": "code",
   "execution_count": 135,
   "metadata": {},
   "outputs": [],
   "source": [
    "set1 = {}\n",
    "for item in related:\n",
    "    pr = dropZeroProduct(df2.iloc[item[0]], product_dict)\n",
    "    set1 = set(set1).union(set(pr))\n"
   ]
  },
  {
   "cell_type": "code",
   "execution_count": 136,
   "metadata": {},
   "outputs": [
    {
     "data": {
      "text/plain": [
       "['4',\n",
       " 'Соус чесночный (50 г)',\n",
       " 'Филе куриное (30 г)',\n",
       " '6',\n",
       " '9',\n",
       " '1',\n",
       " 'Соус сырный (50 г)',\n",
       " 'Корн - дог фри и сыром',\n",
       " 'Кимпаб ',\n",
       " '14']"
      ]
     },
     "execution_count": 136,
     "metadata": {},
     "output_type": "execute_result"
    }
   ],
   "source": [
    "#set1 = set(prod).union(set(prod2)).union(set(prod3)).union(set(prod4)).union(set(prod5))\n",
    "set2 = set(prod)\n",
    "list3 = list( set1.difference(set2) )\n",
    "list3"
   ]
  },
  {
   "cell_type": "code",
   "execution_count": null,
   "metadata": {},
   "outputs": [],
   "source": []
  }
 ],
 "metadata": {
  "interpreter": {
   "hash": "916dbcbb3f70747c44a77c7bcd40155683ae19c65e1c03b4aa3499c5328201f1"
  },
  "kernelspec": {
   "display_name": "Python 3.8.10 64-bit",
   "language": "python",
   "name": "python3"
  },
  "language_info": {
   "codemirror_mode": {
    "name": "ipython",
    "version": 3
   },
   "file_extension": ".py",
   "mimetype": "text/x-python",
   "name": "python",
   "nbconvert_exporter": "python",
   "pygments_lexer": "ipython3",
   "version": "3.8.10"
  },
  "orig_nbformat": 4
 },
 "nbformat": 4,
 "nbformat_minor": 2
}
